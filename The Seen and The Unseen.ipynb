{
 "cells": [
  {
   "cell_type": "markdown",
   "metadata": {},
   "source": [
    "## The Seen and the Unseen\n",
    "<p>\n"
   ]
  },
  {
   "cell_type": "markdown",
   "metadata": {},
   "source": [
    "\n",
    "I started my journey in programming by learning C and C++, and for the past two years I've been working with Java. I recently started learning python because of its use and popularity in diverse fields such as web, game development, machine learning, AI, and Data Science. My general approach for learning these languages was that I would first understand the syntax and develop expertise by taking up problems and solving them in software. However, \"proper\" software development follows a procedure of gathering requirements and analyzing, designing, and developing implementations that meets those requirements. I started adding these steps into my practice. As I started gaining more experience, I realized that there is more than just meeting the requirements. \n",
    "    \n",
    "With apologies to Frédéric Bastiat's \"<a href = 'http://bastiat.org/en/twisatwins.html'>That Which is Seen, and That Which is Not Seen</a>\", I refer to the concept of writing a program that meets the requirements as the seen aspect of it. However, software development is more than this. Good software is maintainable, ensures correctness, and is reliable. This is what I call the unseen part of it. \n",
    "\n",
    "\"That Which is Seen, and That Which is Not Seen\" explains how a habit or a law in the department of economy gives birth to not only an effect but also a series of effects. He refers to the immediate effect of law as 'That Which is Seen' and then a series of effects unfold in succession - 'Which is Not Seen'. To briefly explain this concept I will use 'The Broken Window' example from the essay. A window in a shop is broken. It costs shopkeeper six francs to fix the window. These six francs is the glazier's pay for fixing the broken window. What is seen is that the broken window caused the money to circulate. What is not seen is if the window was not broken the shopkeeper would have used this money somewhere else, perhaps to buy new shoes. This way he could've enjoyed both the shoes and the window. Now he cannot do that because his six francs were spent on the window. Every action or decision thus has a seen and an unseen effect.\n",
    "\n",
    "In the field of programming what is seen is the final implementation of the software itself. What is not seen is how a decision taken to implement affects the performance and accuracy of the software. Maybe a loop runs for a thousand iterations and that's not necessary. A few hundred iterations could give the same output - seen, and the decision to stop earlier can have a great impact on the performance - unseen. In this article I will show how different decisions taken during implementation affect the seen and the unseen using implementations of the Taylor Series as an example. In order to improve the \"seen\" -- meeting the specifications, we need to invest time on the \"unseen\" -- performance, correctness and the frameworks for efficient implementation.\n"
   ]
  },
  {
   "cell_type": "markdown",
   "metadata": {},
   "source": [
    "### Performance"
   ]
  },
  {
   "cell_type": "markdown",
   "metadata": {},
   "source": [
    "As a programmer I have written codes that correctly solve a given problem. Writing codes involves thinking of some logic and implementing it. The first implementation is called <ins>naive implementation</ins>. This naive implementation works fine on a single system, for a single user and a limited amount of data. But when this implementation is used in the real world it faces different challenges. The volume and value of input data may be very different, and it has to deliver the results on time. If the problem uses real-time data then the time taken to generate the output will determine whether the output is valid or up-to-date. All these characteristics determine the performance of a program or software. An <ins>optimized implementation</ins> will have reduced computation time and hence better performance. Therefore to reduce computation time a programmer needs to make the right decisions during implementation. The end-user sees the implementation giving the correct result in a satisfactory amount of time. What is not seen is the analysis and optimizations that enable the software deliver such performance."
   ]
  },
  {
   "cell_type": "markdown",
   "metadata": {},
   "source": [
    "### Visualization"
   ]
  },
  {
   "cell_type": "markdown",
   "metadata": {},
   "source": [
    "Right from school visualization has helped me understand and remember things better rather than just looking at paragraphs and numbers, and this may be the case for you as well. Be it flow charts, mind maps, bar graphs, or diagrams, visualization helps in understanding and retaining the information in a faster and better way. Similarly, data visualization has its own importance in programming. Data scientists work with a huge amount of data and use data visualization to gain insight, understand relations and patterns existing in the data. I used visualization with similar goals - to gain insight into the performance of my implementations. This helps easily identify trends and anamolies, and guide the optimization process. I also used visulisation strategies to monitor my changes and easily keep track of correctness. In the end I could see a faster and more accurate function. All this visualization of data that helped in optimization and testing goes unseen. Visualization helps in understanding other unseen aspects which in turn helps in making the seen better."
   ]
  },
  {
   "cell_type": "markdown",
   "metadata": {},
   "source": [
    "### Testing"
   ]
  },
  {
   "cell_type": "markdown",
   "metadata": {},
   "source": [
    "After writing a program I would usually test it for a few cases to check whether it gives the right output. I soon realized that these few examples do not capture all the corner cases, and need a much larger test suite, which I do not want to run manually! As I work on improving the performance of my implementation, I need to ensure that the changes are not introducing any bugs in the implementation. Automated testing helps in ensuring correctness, and the easier the process is, the more quickly I can identify errors - as soon as I've introduced one. "
   ]
  },
  {
   "cell_type": "markdown",
   "metadata": {},
   "source": [
    "\n",
    "____________\n",
    "I illustrate the above concepts by implementing a Taylor Series expansion for calculating a few mathematical functions. Let's take a look at what a Taylor series is.\n"
   ]
  },
  {
   "cell_type": "markdown",
   "metadata": {},
   "source": [
    "____________"
   ]
  },
  {
   "cell_type": "markdown",
   "metadata": {},
   "source": [
    "### Taylor Series\n",
    "A <a href='https://en.wikipedia.org/wiki/Taylor_series'>Taylor Series</a> is an expansion of a function into an infinite sum of terms, with increasing exponents of a variable. Any continuous function can be expressed as Taylor Series.\n",
    "\n",
    "I select the geometric, exponential and trigonometric functions. for implementation:"
   ]
  },
  {
   "cell_type": "markdown",
   "metadata": {},
   "source": [
    "#### The geometric series  $\\frac{a\\cdot(1-r^n)}{(1-r)}$\n",
    "<br>$$\\frac{a\\cdot(1-r^n)}{(1-r)} = \\sum_{k=0}^{\\infty} a\\cdot r^n = a + a\\cdot r + a\\cdot r^2 + \\dots$$ \n",
    "\n",
    "A geometric series is a series where succesive terms have a constant ratio also called the common ratio. Every term is a product of the previous term and the common ratio.<br>\n",
    "$a$ is the first term.\n",
    "$r$ is the common ration"
   ]
  },
  {
   "cell_type": "markdown",
   "metadata": {},
   "source": [
    "#### The exponential function $e^x$\n",
    "<br>$$e^x = \\sum_{k=0}^{\\infty} \\frac{x^k}{k!} = 1 + x + \\frac{x^2}{2!} + \\frac{x^3}{3!} + \\dots$$ \n"
   ]
  },
  {
   "cell_type": "markdown",
   "metadata": {},
   "source": [
    "#### The Trigonometric functions\n",
    "$$\\sin x = \\sum_{k=0}^{\\infty} \\frac{(-1)^n}{(2n + 1)!}x^{(2n+1)} = x - \\frac{x^3}{3!} + \\frac{x^5}{5!} - \\dots$$\n",
    "<br>\n",
    "$$\\cos x = \\sum_{k=0}^{\\infty} \\frac{(-1)^n}{(2n)!}x^{(2n)} = 1 - \\frac{x^2}{2!} + \\frac{x^4}{4!} - \\frac{x^6}{6!} + \\dots$$"
   ]
  },
  {
   "cell_type": "markdown",
   "metadata": {},
   "source": [
    "***\n"
   ]
  },
  {
   "cell_type": "markdown",
   "metadata": {},
   "source": [
    "I start with the testing framework. Rather than testing different implementations separately, I create a generic test function that takes my implementation, a reference (correct) implementation and a set of test cases that are relevant to the function being tested. I could print out the differences between the two implementations, but a visualization is much more powerful. Here is <code>TheSeenAndTheUnseenTest()</code>\n",
    "<!--\n",
    "After implementing the functions I need to test them for correctness. To test my functions I need a reference output, for which there are library functions. Instead of writing a different testing function for each of them I will make a generic testing function and call it <i>```theSeenAndTheUnseenTest()```</i>. Each function has its own set of test cases, the trigonometric function will have different angles, the geometric series will have values between $0$ and $1$, the exponential function will have some different values. Therefore <i>```theSeenAndTheUnseenTest()```</i> will have three parameters - my function, library function and the respective testcases. <i>```theSeenAndTheUnseenTest()```</i> will test my function for various testcases and find the error. I've talked about visualization and its importance so after calculating the error <i>```theSeenAndTheUnseenTest()```</i>will plot the result for my function, library function and the error. \n",
    "-->"
   ]
  },
  {
   "cell_type": "code",
   "execution_count": 4,
   "metadata": {},
   "outputs": [],
   "source": [
    "import numpy as np\n",
    "import math\n",
    "import matplotlib.pyplot as plt\n",
    "import statistics\n",
    "import timeit\n",
    "import copy"
   ]
  },
  {
   "cell_type": "code",
   "execution_count": 5,
   "metadata": {},
   "outputs": [],
   "source": [
    "#Testing Function\n",
    "def theSeenAndTheUnseenTest(func1, func2, testcase) :\n",
    "    '''\n",
    "    A generic testing function \n",
    "    Arguments:\n",
    "        func1 is the function to be tested\n",
    "        func2 is the inbuilt function\n",
    "        testcase is a list of testcases \n",
    "    \n",
    "    Output:\n",
    "        Graph1: Output of func1 against testcases\n",
    "        Graph2: Output of func2 against testcases\n",
    "        Graph3: Error plot\n",
    "    \n",
    "    '''\n",
    "    ourvalues = []\n",
    "    actualvalues = []\n",
    "    error = []\n",
    "    failed= []\n",
    "    \n",
    "    # This loop stores the output of the defined function,\n",
    "    # output of inbuilt function in lists, and calculates\n",
    "    # error\n",
    "    for i in testcase :\n",
    "        o = (func1(i)[0])\n",
    "        a = (func2(i))\n",
    "        ourvalues.append(o)\n",
    "        actualvalues.append(a)\n",
    "        \n",
    "        if a != 0:            #avoiding division by zero\n",
    "            e = ((a-o)/a)*100\n",
    "            error.append(e)   # error\n",
    "        else:\n",
    "            e = 0\n",
    "            error.append(e)\n",
    "        if e > 0.01 :\n",
    "            failed.append(i);\n",
    "            \n",
    "    fig, ax = plt.subplots(1,3,figsize=(20,5))\n",
    "\n",
    "    # 1st subplot - plots values of defined function\n",
    "    ax[0].plot(testcase, ourvalues, color = 'red')\n",
    "    ax[0].set_title(func1.__name__ + \"()\")\n",
    "    ax[0].set_xlabel(\"testcases\")\n",
    "\n",
    "    # 2nd subplot - plots values of inbuilt function\n",
    "    ax[1].plot(testcase, actualvalues)\n",
    "    ax[1].set_title(func2.__name__+\"()\")\n",
    "    ax[1].set_xlabel(\"testcases\")\n",
    "\n",
    "    # 3rd subplot - plots the error\n",
    "    ax[2].plot(testcase, error)\n",
    "    ax[2].set_title(\"error\")\n",
    "    avg_error = sum(error)/len(error)\n",
    "\n",
    "    # Title when all testcases are passed\n",
    "    if(avg_error < 0.01) :\n",
    "        fig.suptitle(\"All test cases passed, Accuracy: \"+str(100-abs(avg_error)), fontsize = 12)\n",
    "        ax[2].set_xlabel(\"Average Error :\" +str(avg_error)+ \"% \\n < 0.01%\")\n",
    "        #ax[2].text(0.5, -0.17, \"Average Error :\" +str(avg_error)+ \"% \\n < 0.01%\",size=12, ha=\"center\", transform=ax[2].transAxes)\n",
    "    \n",
    "    # Title when not all testcases are passed\n",
    "    else :\n",
    "        fig.suptitle(\"Accuracy: \"+str(100-avg_error), fontsize = 12)\n",
    "        ax[2].text(0.5, -0.17, \"Average Error :\" + str(avg_error)+ \"% \\n > 0.01%\",\n",
    "                   size=12, ha=\"center\", transform=ax[2].transAxes)\n",
    "        print(failed)"
   ]
  },
  {
   "cell_type": "markdown",
   "metadata": {},
   "source": [
    "Next, Let's look at the Taylor series expansion of the <a href='https://github.com/ShwetaBarge/TheSeenAndTheUnseen/blob/master/Geometric%20Series.ipynb'> geometric series </a> explaining the effects of different implementation choices on the unseen on the seen. \n",
    "</p>"
   ]
  },
  {
   "cell_type": "markdown",
   "metadata": {},
   "source": [
    "______________________________________"
   ]
  }
 ],
 "metadata": {
  "kernelspec": {
   "display_name": "Python 3",
   "language": "python",
   "name": "python3"
  },
  "language_info": {
   "codemirror_mode": {
    "name": "ipython",
    "version": 3
   },
   "file_extension": ".py",
   "mimetype": "text/x-python",
   "name": "python",
   "nbconvert_exporter": "python",
   "pygments_lexer": "ipython3",
   "version": "3.6.6"
  }
 },
 "nbformat": 4,
 "nbformat_minor": 4
}
