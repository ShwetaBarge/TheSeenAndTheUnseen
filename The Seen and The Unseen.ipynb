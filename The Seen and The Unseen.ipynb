{
 "cells": [
  {
   "cell_type": "markdown",
   "metadata": {},
   "source": [
    "## The Seen and the Unseen\n",
    "<p>\n"
   ]
  },
  {
   "cell_type": "markdown",
   "metadata": {},
   "source": [
    "<p>\n",
    "I started my journey in programming by learning C, C++ and for the past two years I've been working with Java. I recently started learning python because of its use and popularity in diverse fields such as web, game development, machine learning, AI, Data Science, etc,. My general approach for learning all these languages was that I would first understand the syntax, take up a problem, understand its requirements, and then try implementing it. It somewhat mimics the steps that are followed in developing software, where first there is gathering of a requirements, analyzing, designing, and developing software that meets those requirements. As I went on developing more and more experience I realized that there is more than just meeting the requirements. Pertaining to Frédéric Bastiat's \"<a href = 'http://bastiat.org/en/twisatwins.html'>That Which is Seen, and That Which is Not Seen</a>\", I refer to the concept of writing a program that meets the requirements as the seen aspect of it. However, software development is more than that. Good software is maintainable, ensures correctness, and is reliable. This is what I call the unseen part of it. \n",
    "</p>\n",
    "<p>\n",
    "\"That Which is Seen, and That Which is Not Seen\" explains how a habit or a law in the department of economy gives birth to not only an effect but also a series of effects. He refers to the immediate effect of law as 'That Which is Seen' and then a series of effects unfold in succession - 'Which is Not Seen'. To briefly explain this concept I will use 'The Broken Window' example from the book. A shopkeeper gets his window broken because of his careless son. It costs shopkeeper six francs to fix the window. These six francs is the glazier's pay for fixing the broken window. What is seen is that the broken window caused the money to circulate. What is not seen is if the window was not broken the shopkeeper would've used this money somewhere else, perhaps to buy new shoes. This way he could've enjoyed both the shoes and the window. Now he cannot do that because his six francs were spent on the window. Every action or decision has a seen and an unseen effect.\n",
    "</p>\n",
    "<p>In the field of programming what is seen is the final implementation of the software itself. What is not seen is how a decision taken to implement affects the performance and accuracy of the software. Maybe a loop runs for a thousand iterations and that's not necessary. A few hundred iterations could give the same output - seen, and the decision to stop earlier can have a great impact on the performance - unseen. Through this article I am going to show how different decisions taken during implementation affect the seen and the unseen using the Taylor Series. To make the seen better a good amount of time has to be spent on unseen such as improving the performance and ensuring correctness. \n",
    "</p>"
   ]
  },
  {
   "cell_type": "markdown",
   "metadata": {},
   "source": [
    "### Performance"
   ]
  },
  {
   "cell_type": "markdown",
   "metadata": {},
   "source": [
    "As a programmer I have written codes that ideally solve a given problem. Writing codes involved thinking of some logic and implementing it. The first implementation is called naive implementation. This naive implementation works fine on a single system, for a single user and a limited amount of data. But when this implementation is used in real-time it faces different challenges. It faces a large amount of data and has to deliver the output on time. If the problem uses real-time data then the time taken to generate the output will determine whether the output is valid or up-to-date. All these characteristics determine the performance of a program or software. An optimized implementation will have reduced computation time and hence better performance. Therefore to reduce computation time a programmer needs to make the right decisions during implementation. The end-user sees the implementation giving the correct result. What is not seen is the optimization that is helping the software deliver such performance."
   ]
  },
  {
   "cell_type": "markdown",
   "metadata": {},
   "source": [
    "### Visualization"
   ]
  },
  {
   "cell_type": "markdown",
   "metadata": {},
   "source": [
    "Right from school visualization has helped me understand and remember things better rather than just looking at paragraphs and numbers as it must be the case for most of you. Be it flow charts, mind maps, bar graphs, or diagrams, visualization helps in understanding and retaining the information in a faster and better way. Similarly data visualization has its own importance in programming. Data scientists work with a huge amount of data and use data visualization to gain insight, understand relations and patterns existing in the data. I used visualization with similar goals - to gain insight into the performance of my function. It made me question the pattern I was seeing and take different decisions regarding the optimization of the function. It helped me monitor the function and keep a check for correctness. In the end I could see a faster and more accurate function. All this visualization of data that helped in optimization and testing goes unseen. Visualization helps in understanding other unseen aspects which in turn helps in making the seen better.\n"
   ]
  },
  {
   "cell_type": "markdown",
   "metadata": {},
   "source": [
    "### Testing"
   ]
  },
  {
   "cell_type": "markdown",
   "metadata": {},
   "source": [
    "After writing a program I would usually test it for a few cases to check whether it gives the right output. These few examples do not capture all the corner cases. As I want to make my program better I would be making changes regarding its performance. While I am doing this I need to ensure that these changes are not introducing any bugs in the implementation. Testing helps in ensuring that. Finding bugs can be relatively easy if testing is done after introducing any change. There are different types of testing but in this article testing is done to correctness."
   ]
  },
  {
   "cell_type": "markdown",
   "metadata": {},
   "source": [
    "Before beginning with the example lets take a look at Taylor Series."
   ]
  },
  {
   "cell_type": "markdown",
   "metadata": {},
   "source": [
    "____________"
   ]
  },
  {
   "cell_type": "markdown",
   "metadata": {},
   "source": [
    "### Taylor Series\n",
    "<p>A <a href='https://en.wikipedia.org/wiki/Taylor_series'>Taylor Series</a> is an expansion of a function into an infinite sum of terms, with increasing exponents of a variable. Any continuous function can be expressed as Taylor Series.\n",
    "<p>I would be working on the geometric, exponential and trigonometric functions."
   ]
  },
  {
   "cell_type": "markdown",
   "metadata": {},
   "source": [
    "#### The geometric series  $\\frac{a\\cdot(1-r^n)}{(1-r)}$\n",
    "<br>$$\\frac{a\\cdot(1-r^n)}{(1-r)} = \\sum_{k=0}^{\\infty} a\\cdot r^n = a + a\\cdot r + a\\cdot r^2 + \\dots$$ \n",
    "\n",
    "A geometric series is a series where succesive terms have a constant ratio also called the common ratio. Every term is a product of the previous term and the common ratio.<br>\n",
    "$a$ is the first term.\n",
    "$r$ is the common ration"
   ]
  },
  {
   "cell_type": "markdown",
   "metadata": {},
   "source": [
    "#### The exponential function $e^x$\n",
    "<br>$$e^x = \\sum_{k=0}^{\\infty} \\frac{x^k}{k!} = 1 + x + \\frac{x^2}{2!} + \\frac{x^3}{3!} + \\dots$$ \n"
   ]
  },
  {
   "cell_type": "markdown",
   "metadata": {},
   "source": [
    "#### The Trigonometric functions\n",
    "$$\\sin x = \\sum_{k=0}^{\\infty} \\frac{(-1)^n}{(2n + 1)!}x^{(2n+1)} = x - \\frac{x^3}{3!} + \\frac{x^5}{5!} - \\dots$$\n",
    "<br>\n",
    "$$\\cos x = \\sum_{k=0}^{\\infty} \\frac{(-1)^n}{(2n)!}x^{(2n)} = 1 - \\frac{x^2}{2!} + \\frac{x^4}{4!} - \\frac{x^6}{6!} + \\dots$$"
   ]
  },
  {
   "cell_type": "markdown",
   "metadata": {},
   "source": [
    "***\n"
   ]
  },
  {
   "cell_type": "markdown",
   "metadata": {},
   "source": [
    "After implementing the functions I need to test them for correctness. To test my functions I need a reference output, for which there are library functions. Instead of writing a different testing function for each of them I will make a generic testing function and call it <i>```theSeenAndTheUnseenTest()```</i>. Each function has its own set of test cases, the trigonometric function will have different angles, the geometric series will have values between $0$ and $1$, the exponential function will have some different values. Therefore <i>```theSeenAndTheUnseenTest()```</i> will have three parameters - my function, library function and the respective testcases. <i>```theSeenAndTheUnseenTest()```</i> will test my function for various testcases and find the error. I've talked about visualization and its importance so after calculating the error <i>```theSeenAndTheUnseenTest()```</i>will plot the result for my function, library function and the error. "
   ]
  },
  {
   "cell_type": "code",
   "execution_count": 4,
   "metadata": {},
   "outputs": [],
   "source": [
    "import numpy as np\n",
    "import math\n",
    "import matplotlib.pyplot as plt\n",
    "import statistics\n",
    "import timeit\n",
    "import copy"
   ]
  },
  {
   "cell_type": "code",
   "execution_count": 5,
   "metadata": {},
   "outputs": [],
   "source": [
    "#Testing Function\n",
    "def theSeenAndTheUnseenTest(func1, func2, testcase) :\n",
    "    '''\n",
    "    A generic testing function \n",
    "    Arguments:\n",
    "        func1 is the function to be tested\n",
    "        func2 is the inbuilt function\n",
    "        testcase is a list of testcases \n",
    "    \n",
    "    Output:\n",
    "        Graph1: Output of func1 against testcases\n",
    "        Graph2: Output of func2 against testcases\n",
    "        Graph3: Error plot\n",
    "    \n",
    "    '''\n",
    "    ourvalues = []\n",
    "    actualvalues = []\n",
    "    error = []\n",
    "    failed= []\n",
    "    \n",
    "    # This loop stores the output of the defined function,\n",
    "    # output of inbuilt function in lists, and calculates\n",
    "    # error\n",
    "    for i in testcase :\n",
    "        o = (func1(i)[0])\n",
    "        a = (func2(i))\n",
    "        ourvalues.append(o)\n",
    "        actualvalues.append(a)\n",
    "        \n",
    "        if a != 0:            #avoiding division by zero\n",
    "            e = ((a-o)/a)*100\n",
    "            error.append(e)   # error\n",
    "        else:\n",
    "            e = 0\n",
    "            error.append(e)\n",
    "        if e > 0.01 :\n",
    "            failed.append(i);\n",
    "            \n",
    "    fig, ax = plt.subplots(1,3,figsize=(20,5))\n",
    "\n",
    "    # 1st subplot - plots values of defined function\n",
    "    ax[0].plot(testcase, ourvalues, color = 'red')\n",
    "    ax[0].set_title(func1.__name__ + \"()\")\n",
    "    ax[0].set_xlabel(\"testcases\")\n",
    "\n",
    "    # 2nd subplot - plots values of inbuilt function\n",
    "    ax[1].plot(testcase, actualvalues)\n",
    "    ax[1].set_title(func2.__name__+\"()\")\n",
    "    ax[1].set_xlabel(\"testcases\")\n",
    "\n",
    "    # 3rd subplot - plots the error\n",
    "    ax[2].plot(testcase, error)\n",
    "    ax[2].set_title(\"error\")\n",
    "    avg_error = sum(error)/len(error)\n",
    "\n",
    "    # Title when all testcases are passed\n",
    "    if(avg_error < 0.01) :\n",
    "        fig.suptitle(\"All test cases passed, Accuracy: \"+str(100-abs(avg_error)), fontsize = 12)\n",
    "        ax[2].set_xlabel(\"Average Error :\" +str(avg_error)+ \"% \\n < 0.01%\")\n",
    "        #ax[2].text(0.5, -0.17, \"Average Error :\" +str(avg_error)+ \"% \\n < 0.01%\",size=12, ha=\"center\", transform=ax[2].transAxes)\n",
    "    \n",
    "    # Title when not all testcases are passed\n",
    "    else :\n",
    "        fig.suptitle(\"Accuracy: \"+str(100-avg_error), fontsize = 12)\n",
    "        ax[2].text(0.5, -0.17, \"Average Error :\" + str(avg_error)+ \"% \\n > 0.01%\",\n",
    "                   size=12, ha=\"center\", transform=ax[2].transAxes)\n",
    "        print(failed)"
   ]
  },
  {
   "cell_type": "markdown",
   "metadata": {},
   "source": [
    "Here is the link to the Taylor series expansion of the <a href = \"https://github.com/ShwetaBarge/TheSeenAndTheUnseen/blob/master/Geometric%20Series.ipynb\">geometric series</a> explaining the effects of different implementation choices on the unseen on the seen. "
   ]
  },
  {
   "cell_type": "markdown",
   "metadata": {},
   "source": [
    "______________________________________"
   ]
  }
 ],
 "metadata": {
  "kernelspec": {
   "display_name": "Python 3",
   "language": "python",
   "name": "python3"
  },
  "language_info": {
   "codemirror_mode": {
    "name": "ipython",
    "version": 3
   },
   "file_extension": ".py",
   "mimetype": "text/x-python",
   "name": "python",
   "nbconvert_exporter": "python",
   "pygments_lexer": "ipython3",
   "version": "3.7.4"
  }
 },
 "nbformat": 4,
 "nbformat_minor": 2
}
